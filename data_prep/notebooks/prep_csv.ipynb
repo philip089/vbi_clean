{
 "cells": [
  {
   "cell_type": "code",
   "execution_count": 9,
   "metadata": {},
   "outputs": [],
   "source": [
    "import pandas as pd\n",
    "import json\n"
   ]
  },
  {
   "cell_type": "code",
   "execution_count": 10,
   "metadata": {},
   "outputs": [
    {
     "data": {
      "text/plain": [
       "Index(['video_id', 'title', 'publishedAt', 'channelId', 'channelTitle',\n",
       "       'categoryId', 'trending_date', 'tags', 'view_count', 'likes',\n",
       "       'dislikes', 'comment_count', 'thumbnail_link', 'comments_disabled',\n",
       "       'ratings_disabled', 'description'],\n",
       "      dtype='object')"
      ]
     },
     "execution_count": 10,
     "metadata": {},
     "output_type": "execute_result"
    }
   ],
   "source": [
    "full_df = pd.read_csv(\"../../Source/DE_youtube_trending_data.csv\")\n",
    "full_df.columns\n",
    "\n"
   ]
  },
  {
   "cell_type": "code",
   "execution_count": 11,
   "metadata": {},
   "outputs": [
    {
     "name": "stdout",
     "output_type": "stream",
     "text": [
      "Full Dataset length: 234136\n",
      "Filtered Dataset length: 49771\n"
     ]
    }
   ],
   "source": [
    "# some videos have multiple entries in the table because they trended for multiple day. \n",
    "# The duplicate entries are dropped and only the most recent one is kept\n",
    "# since the data order is in chronoligal order keep='last' is enough\n",
    "print(f\"Full Dataset length: {len(full_df)}\")\n",
    "full_df.drop_duplicates(subset=['video_id'], keep='last', inplace=True)\n",
    "print(f\"Filtered Dataset length: {len(full_df)}\")\n",
    "\n",
    "# remove unused columns to improve performance\n",
    "full_df = full_df[['video_id', 'title', 'publishedAt',\n",
    "       'categoryId', 'trending_date', 'tags', 'view_count', 'likes',\n",
    "       'dislikes', 'comment_count','comments_disabled',\n",
    "       'ratings_disabled']]\n",
    "full_df[\"country\"] = \"DE\"\n",
    "full_df.to_csv(\"../../csv_files/filtered_DE.csv\")"
   ]
  },
  {
   "cell_type": "code",
   "execution_count": 12,
   "metadata": {},
   "outputs": [],
   "source": [
    "\n",
    "\n",
    "\n",
    "\n",
    "\n",
    "with open(\"../../Source/DE_category_id.json\") as f:\n",
    "    data = json.load(f)\n",
    "\n",
    "# Use pd.json_normalize to convert the JSON to a DataFrame\n",
    "category_df = pd.json_normalize(data['items'], \n",
    "                     meta=['kind', \"etag\", \"id\", ['snippet', 'title'], ['snippet', 'assignable'], ['snippet', 'channelId']])\n",
    "\n",
    "\n",
    "# Rename the columns to make the remvoing part more readable and easier\n",
    "category_df.columns = ['kind', 'etag', \"id\", 'title', 'assignable', 'channelId']\n",
    "\n",
    "\n",
    "category_df.drop(['kind', 'etag', 'assignable', 'channelId'], axis=\"columns\", inplace=True)\n",
    "category_df[\"country\"] = \"DE\"\n",
    "category_df.to_csv(\"../../csv_files/category_df.csv\", index=False)"
   ]
  }
 ],
 "metadata": {
  "kernelspec": {
   "display_name": "Python 3",
   "language": "python",
   "name": "python3"
  },
  "language_info": {
   "codemirror_mode": {
    "name": "ipython",
    "version": 3
   },
   "file_extension": ".py",
   "mimetype": "text/x-python",
   "name": "python",
   "nbconvert_exporter": "python",
   "pygments_lexer": "ipython3",
   "version": "3.12.0"
  },
  "orig_nbformat": 4
 },
 "nbformat": 4,
 "nbformat_minor": 2
}
