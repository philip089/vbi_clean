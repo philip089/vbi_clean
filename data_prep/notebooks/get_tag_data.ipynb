{
 "cells": [
  {
   "cell_type": "code",
   "execution_count": 31,
   "metadata": {},
   "outputs": [],
   "source": [
    "import pandas as pd\n",
    "import numpy as np\n",
    "from tqdm import tqdm\n",
    "import itertools"
   ]
  },
  {
   "cell_type": "code",
   "execution_count": 32,
   "metadata": {},
   "outputs": [
    {
     "data": {
      "text/plain": [
       "Index(['Unnamed: 0', 'video_id', 'title', 'publishedAt', 'categoryId',\n",
       "       'trending_date', 'tags', 'view_count', 'likes', 'dislikes',\n",
       "       'comment_count', 'comments_disabled', 'ratings_disabled'],\n",
       "      dtype='object')"
      ]
     },
     "execution_count": 32,
     "metadata": {},
     "output_type": "execute_result"
    }
   ],
   "source": [
    "\n",
    "full_df = pd.read_csv(\"../../csv_files/filtered_DE.csv\")\n",
    "full_df.columns"
   ]
  },
  {
   "cell_type": "code",
   "execution_count": 33,
   "metadata": {},
   "outputs": [
    {
     "data": {
      "text/plain": [
       "0    [how to make a curried egg sandwich, curried e...\n",
       "1    [cake rescue, caek fail, viral cake fails, fun...\n",
       "3    [president, trump, donald, executive, orders, ...\n",
       "4    [warner bros, warner brothers, wb, fred hampto...\n",
       "5    [Lyon, Juventus, Juventus vs. Lyon, lyon vs ju...\n",
       "Name: tags, dtype: object"
      ]
     },
     "execution_count": 33,
     "metadata": {},
     "output_type": "execute_result"
    }
   ],
   "source": [
    "# Getting a nested list of all tags\n",
    "# [tag1, tag2, tag3][tag4,tag5,tag6]\n",
    "# each list represents a video\n",
    "\n",
    "videosAsListOfTags = (full_df[\"tags\"]\n",
    "                      .where(lambda s: s != \"[None]\").dropna()\n",
    "                      .map(lambda s: s.split('|')))\n",
    "\n",
    "videosAsListOfTags.head()\n"
   ]
  },
  {
   "cell_type": "code",
   "execution_count": 34,
   "metadata": {},
   "outputs": [
    {
     "data": {
      "text/html": [
       "<div>\n",
       "<style scoped>\n",
       "    .dataframe tbody tr th:only-of-type {\n",
       "        vertical-align: middle;\n",
       "    }\n",
       "\n",
       "    .dataframe tbody tr th {\n",
       "        vertical-align: top;\n",
       "    }\n",
       "\n",
       "    .dataframe thead th {\n",
       "        text-align: right;\n",
       "    }\n",
       "</style>\n",
       "<table border=\"1\" class=\"dataframe\">\n",
       "  <thead>\n",
       "    <tr style=\"text-align: right;\">\n",
       "      <th></th>\n",
       "      <th>video_id</th>\n",
       "      <th>tags</th>\n",
       "    </tr>\n",
       "  </thead>\n",
       "  <tbody>\n",
       "    <tr>\n",
       "      <th>0</th>\n",
       "      <td>cAtazIk1IYw</td>\n",
       "      <td>[how to make a curried egg sandwich, curried e...</td>\n",
       "    </tr>\n",
       "    <tr>\n",
       "      <th>1</th>\n",
       "      <td>NYFHnIiA8gE</td>\n",
       "      <td>[cake rescue, caek fail, viral cake fails, fun...</td>\n",
       "    </tr>\n",
       "    <tr>\n",
       "      <th>3</th>\n",
       "      <td>dO6YihaqtaQ</td>\n",
       "      <td>[president, trump, donald, executive, orders, ...</td>\n",
       "    </tr>\n",
       "    <tr>\n",
       "      <th>4</th>\n",
       "      <td>sSjtGqRXQ9Y</td>\n",
       "      <td>[warner bros, warner brothers, wb, fred hampto...</td>\n",
       "    </tr>\n",
       "    <tr>\n",
       "      <th>5</th>\n",
       "      <td>kcynVTnaHw0</td>\n",
       "      <td>[Lyon, Juventus, Juventus vs. Lyon, lyon vs ju...</td>\n",
       "    </tr>\n",
       "  </tbody>\n",
       "</table>\n",
       "</div>"
      ],
      "text/plain": [
       "      video_id                                               tags\n",
       "0  cAtazIk1IYw  [how to make a curried egg sandwich, curried e...\n",
       "1  NYFHnIiA8gE  [cake rescue, caek fail, viral cake fails, fun...\n",
       "3  dO6YihaqtaQ  [president, trump, donald, executive, orders, ...\n",
       "4  sSjtGqRXQ9Y  [warner bros, warner brothers, wb, fred hampto...\n",
       "5  kcynVTnaHw0  [Lyon, Juventus, Juventus vs. Lyon, lyon vs ju..."
      ]
     },
     "execution_count": 34,
     "metadata": {},
     "output_type": "execute_result"
    }
   ],
   "source": [
    "\n",
    "\n",
    "temp_df = pd.DataFrame(videosAsListOfTags)\n",
    "tags_by_videoid = pd.merge(full_df[\"video_id\"], temp_df, left_index=True, right_index=True)\n",
    "tags_by_videoid.to_csv(\"../../csv_files/tags_with_id.csv\", index=False)\n",
    "tags_by_videoid.head()"
   ]
  },
  {
   "cell_type": "code",
   "execution_count": 35,
   "metadata": {},
   "outputs": [],
   "source": [
    "tagsByPopuarity = videosAsListOfTags.explode().value_counts()\n",
    "# tagsByPopuarity = pd.DataFrame(tagsByPopuarity).reset_index()\t\n",
    "numberOfTags = 501\n",
    "topXTags = tagsByPopuarity.head(numberOfTags)\n",
    "count_df = pd.DataFrame(topXTags)\n",
    "list_of_tags = list(dict(topXTags).keys())\n"
   ]
  },
  {
   "cell_type": "code",
   "execution_count": 36,
   "metadata": {},
   "outputs": [],
   "source": [
    "\n",
    "\n",
    "new_data = []\n",
    "\n",
    "# Iterate over rows in the original DataFrame\n",
    "for _, row in tags_by_videoid.iterrows():\n",
    "    video_id = row['video_id']\n",
    "    tags = row['tags']\n",
    "    \n",
    "    # For each tag in the list, create a new row in the new_data list\n",
    "    for tag in tags:\n",
    "        new_data.append({'video_id': video_id, 'tags': tag})\n",
    "\n",
    "# Create a new DataFrame from the new_data list\n",
    "new_df = pd.DataFrame(new_data)\n",
    "\n",
    "# Group by 'tag' and aggregate 'video_id' as a list\n",
    "result_df = new_df.groupby('tags')['video_id'].agg(list).reset_index()\n",
    "\n",
    "result_df = result_df[result_df['tags'].isin(list_of_tags)]\n",
    "list_of_video_id = set(itertools.chain.from_iterable(list(result_df['video_id'])))\n",
    "full_df = full_df[full_df['video_id'].isin(list_of_video_id)]\n",
    "result_df = pd.merge(result_df, count_df, on='tags', how='outer')"
   ]
  },
  {
   "cell_type": "code",
   "execution_count": 37,
   "metadata": {},
   "outputs": [
    {
     "data": {
      "text/html": [
       "<div>\n",
       "<style scoped>\n",
       "    .dataframe tbody tr th:only-of-type {\n",
       "        vertical-align: middle;\n",
       "    }\n",
       "\n",
       "    .dataframe tbody tr th {\n",
       "        vertical-align: top;\n",
       "    }\n",
       "\n",
       "    .dataframe thead th {\n",
       "        text-align: right;\n",
       "    }\n",
       "</style>\n",
       "<table border=\"1\" class=\"dataframe\">\n",
       "  <thead>\n",
       "    <tr style=\"text-align: right;\">\n",
       "      <th></th>\n",
       "      <th>tag</th>\n",
       "      <th>category</th>\n",
       "      <th>count</th>\n",
       "    </tr>\n",
       "  </thead>\n",
       "  <tbody>\n",
       "    <tr>\n",
       "      <th>0</th>\n",
       "      <td></td>\n",
       "      <td>17</td>\n",
       "      <td>115</td>\n",
       "    </tr>\n",
       "    <tr>\n",
       "      <th>1</th>\n",
       "      <td>100 days</td>\n",
       "      <td>20</td>\n",
       "      <td>189</td>\n",
       "    </tr>\n",
       "    <tr>\n",
       "      <th>2</th>\n",
       "      <td>100 days hardcore</td>\n",
       "      <td>20</td>\n",
       "      <td>112</td>\n",
       "    </tr>\n",
       "    <tr>\n",
       "      <th>3</th>\n",
       "      <td>2020</td>\n",
       "      <td>17</td>\n",
       "      <td>289</td>\n",
       "    </tr>\n",
       "    <tr>\n",
       "      <th>4</th>\n",
       "      <td>2021</td>\n",
       "      <td>17</td>\n",
       "      <td>249</td>\n",
       "    </tr>\n",
       "    <tr>\n",
       "      <th>5</th>\n",
       "      <td>2022</td>\n",
       "      <td>17</td>\n",
       "      <td>215</td>\n",
       "    </tr>\n",
       "    <tr>\n",
       "      <th>6</th>\n",
       "      <td>2023</td>\n",
       "      <td>17</td>\n",
       "      <td>132</td>\n",
       "    </tr>\n",
       "    <tr>\n",
       "      <th>7</th>\n",
       "      <td>Action</td>\n",
       "      <td>17</td>\n",
       "      <td>114</td>\n",
       "    </tr>\n",
       "    <tr>\n",
       "      <th>8</th>\n",
       "      <td>Alternative</td>\n",
       "      <td>10</td>\n",
       "      <td>106</td>\n",
       "    </tr>\n",
       "    <tr>\n",
       "      <th>9</th>\n",
       "      <td>Amber</td>\n",
       "      <td>20</td>\n",
       "      <td>101</td>\n",
       "    </tr>\n",
       "  </tbody>\n",
       "</table>\n",
       "</div>"
      ],
      "text/plain": [
       "                 tag  category  count\n",
       "0                           17    115\n",
       "1           100 days        20    189\n",
       "2  100 days hardcore        20    112\n",
       "3               2020        17    289\n",
       "4               2021        17    249\n",
       "5               2022        17    215\n",
       "6               2023        17    132\n",
       "7             Action        17    114\n",
       "8        Alternative        10    106\n",
       "9              Amber        20    101"
      ]
     },
     "execution_count": 37,
     "metadata": {},
     "output_type": "execute_result"
    }
   ],
   "source": [
    "#assign each tag its most common category and how often it occurs\n",
    "list_of_rows = []\n",
    "full_df = full_df[[\"video_id\",\"categoryId\"]]\n",
    "for index, rows in result_df.iterrows():\n",
    "    tag = rows[\"tags\"]\n",
    "    id_list = rows[\"video_id\"]\n",
    "    category_list = []\n",
    "    count = rows[\"count\"]\n",
    "    \n",
    "    \n",
    "    video_df = full_df[full_df[\"video_id\"].isin(id_list)]\n",
    "    for index, rows in video_df.iterrows():\n",
    "        category_list.append(rows[\"categoryId\"])\n",
    "        \n",
    "        \n",
    "\n",
    "    category = max(set(category_list), key = category_list.count)\n",
    "    \n",
    "\n",
    "    new_row = {'tag':tag, \"category\": category, \"count\": count}\n",
    "    list_of_rows.append(new_row)\n",
    "    \n",
    "\n",
    "tags_with_data = pd.DataFrame(list_of_rows)\n",
    "\n",
    "tags_with_data.head(10)\n"
   ]
  },
  {
   "cell_type": "code",
   "execution_count": 38,
   "metadata": {},
   "outputs": [],
   "source": [
    "# give each category a color and replace ghem with the true name\n",
    "category_df = pd.read_csv(\"../../csv_files/category_df.csv\")\n",
    "colormap = ['#e6194b', '#3cb44b', '#ffe119', '#4363d8', '#f58231', '#911eb4', '#46f0f0', '#f032e6', '#bcf60c', '#fabebe', '#008080', '#e6beff', '#9a6324', '#fffac8', '#800000', '#aaffc3', '#808000', '#ffd8b1', '#000075', '#808080', '#ffffff', '#000000']\n",
    "tags_with_data = tags_with_data.merge(category_df,how='left', left_on='category', right_on='id')\n",
    "for index, i in enumerate(set(tags_with_data[\"id\"])):\n",
    "    tags_with_data['id'].replace(i, colormap[index], inplace=True)\n",
    "tags_with_data.columns = [\"tag\",\"category_id\",\"count\",\"color\",\"category_name\"]"
   ]
  },
  {
   "cell_type": "code",
   "execution_count": null,
   "metadata": {},
   "outputs": [],
   "source": []
  },
  {
   "cell_type": "code",
   "execution_count": 39,
   "metadata": {},
   "outputs": [
    {
     "data": {
      "text/html": [
       "<div>\n",
       "<style scoped>\n",
       "    .dataframe tbody tr th:only-of-type {\n",
       "        vertical-align: middle;\n",
       "    }\n",
       "\n",
       "    .dataframe tbody tr th {\n",
       "        vertical-align: top;\n",
       "    }\n",
       "\n",
       "    .dataframe thead th {\n",
       "        text-align: right;\n",
       "    }\n",
       "</style>\n",
       "<table border=\"1\" class=\"dataframe\">\n",
       "  <thead>\n",
       "    <tr style=\"text-align: right;\">\n",
       "      <th></th>\n",
       "      <th>tag</th>\n",
       "      <th>category_id</th>\n",
       "      <th>count</th>\n",
       "      <th>color</th>\n",
       "      <th>category_name</th>\n",
       "    </tr>\n",
       "  </thead>\n",
       "  <tbody>\n",
       "    <tr>\n",
       "      <th>0</th>\n",
       "      <td></td>\n",
       "      <td>17</td>\n",
       "      <td>115</td>\n",
       "      <td>#4363d8</td>\n",
       "      <td>Sports</td>\n",
       "    </tr>\n",
       "    <tr>\n",
       "      <th>1</th>\n",
       "      <td>100 days</td>\n",
       "      <td>20</td>\n",
       "      <td>189</td>\n",
       "      <td>#911eb4</td>\n",
       "      <td>Gaming</td>\n",
       "    </tr>\n",
       "    <tr>\n",
       "      <th>2</th>\n",
       "      <td>100 days hardcore</td>\n",
       "      <td>20</td>\n",
       "      <td>112</td>\n",
       "      <td>#911eb4</td>\n",
       "      <td>Gaming</td>\n",
       "    </tr>\n",
       "    <tr>\n",
       "      <th>3</th>\n",
       "      <td>2020</td>\n",
       "      <td>17</td>\n",
       "      <td>289</td>\n",
       "      <td>#4363d8</td>\n",
       "      <td>Sports</td>\n",
       "    </tr>\n",
       "    <tr>\n",
       "      <th>4</th>\n",
       "      <td>2021</td>\n",
       "      <td>17</td>\n",
       "      <td>249</td>\n",
       "      <td>#4363d8</td>\n",
       "      <td>Sports</td>\n",
       "    </tr>\n",
       "  </tbody>\n",
       "</table>\n",
       "</div>"
      ],
      "text/plain": [
       "                 tag  category_id  count    color category_name\n",
       "0                              17    115  #4363d8        Sports\n",
       "1           100 days           20    189  #911eb4        Gaming\n",
       "2  100 days hardcore           20    112  #911eb4        Gaming\n",
       "3               2020           17    289  #4363d8        Sports\n",
       "4               2021           17    249  #4363d8        Sports"
      ]
     },
     "execution_count": 39,
     "metadata": {},
     "output_type": "execute_result"
    }
   ],
   "source": [
    "\n",
    "tags_with_data.to_csv(\"../../csv_files/node_data.csv\", index=False)\n",
    "tags_with_data.head()"
   ]
  }
 ],
 "metadata": {
  "kernelspec": {
   "display_name": "Python 3",
   "language": "python",
   "name": "python3"
  },
  "language_info": {
   "codemirror_mode": {
    "name": "ipython",
    "version": 3
   },
   "file_extension": ".py",
   "mimetype": "text/x-python",
   "name": "python",
   "nbconvert_exporter": "python",
   "pygments_lexer": "ipython3",
   "version": "3.12.0"
  },
  "orig_nbformat": 4
 },
 "nbformat": 4,
 "nbformat_minor": 2
}
