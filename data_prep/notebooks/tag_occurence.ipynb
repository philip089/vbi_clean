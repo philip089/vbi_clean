{
 "cells": [
  {
   "cell_type": "code",
   "execution_count": 31,
   "metadata": {},
   "outputs": [
    {
     "data": {
      "text/html": [
       "<div>\n",
       "<style scoped>\n",
       "    .dataframe tbody tr th:only-of-type {\n",
       "        vertical-align: middle;\n",
       "    }\n",
       "\n",
       "    .dataframe tbody tr th {\n",
       "        vertical-align: top;\n",
       "    }\n",
       "\n",
       "    .dataframe thead th {\n",
       "        text-align: right;\n",
       "    }\n",
       "</style>\n",
       "<table border=\"1\" class=\"dataframe\">\n",
       "  <thead>\n",
       "    <tr style=\"text-align: right;\">\n",
       "      <th></th>\n",
       "      <th>video_id</th>\n",
       "      <th>tags</th>\n",
       "    </tr>\n",
       "  </thead>\n",
       "  <tbody>\n",
       "    <tr>\n",
       "      <th>0</th>\n",
       "      <td>cAtazIk1IYw</td>\n",
       "      <td>how to make a curried egg sandwich, curried eg...</td>\n",
       "    </tr>\n",
       "    <tr>\n",
       "      <th>1</th>\n",
       "      <td>NYFHnIiA8gE</td>\n",
       "      <td>cake rescue, caek fail, viral cake fails, funn...</td>\n",
       "    </tr>\n",
       "    <tr>\n",
       "      <th>2</th>\n",
       "      <td>dO6YihaqtaQ</td>\n",
       "      <td>president, trump, donald, executive, orders, s...</td>\n",
       "    </tr>\n",
       "    <tr>\n",
       "      <th>3</th>\n",
       "      <td>sSjtGqRXQ9Y</td>\n",
       "      <td>warner bros, warner brothers, wb, fred hampton...</td>\n",
       "    </tr>\n",
       "    <tr>\n",
       "      <th>4</th>\n",
       "      <td>kcynVTnaHw0</td>\n",
       "      <td>Lyon, Juventus, Juventus vs. Lyon, lyon vs juv...</td>\n",
       "    </tr>\n",
       "  </tbody>\n",
       "</table>\n",
       "</div>"
      ],
      "text/plain": [
       "      video_id                                               tags\n",
       "0  cAtazIk1IYw  how to make a curried egg sandwich, curried eg...\n",
       "1  NYFHnIiA8gE  cake rescue, caek fail, viral cake fails, funn...\n",
       "2  dO6YihaqtaQ  president, trump, donald, executive, orders, s...\n",
       "3  sSjtGqRXQ9Y  warner bros, warner brothers, wb, fred hampton...\n",
       "4  kcynVTnaHw0  Lyon, Juventus, Juventus vs. Lyon, lyon vs juv..."
      ]
     },
     "execution_count": 31,
     "metadata": {},
     "output_type": "execute_result"
    }
   ],
   "source": [
    "import pandas as pd\n",
    "from tqdm import tqdm\n",
    "\n",
    "tag_data = pd.read_csv(\"../../csv_files_us_new/tags_with_id.csv\")\n",
    "\n",
    "tag_data[\"tags\"] = tag_data[\"tags\"].apply(lambda x: x.replace(\"'\", \"\"))\n",
    "tag_data[\"tags\"] = tag_data[\"tags\"].apply(lambda x: x.replace(\"]\", \"\"))\n",
    "tag_data[\"tags\"] = tag_data[\"tags\"].apply(lambda x: x.replace(\"[\", \"\"))\n",
    "tag_data.head()"
   ]
  },
  {
   "cell_type": "code",
   "execution_count": 32,
   "metadata": {},
   "outputs": [],
   "source": [
    "top_tags = pd.read_csv(\"../../csv_files_us_new/top_tags.csv\")\n",
    "top_set = set(top_tags[\"tags\"])"
   ]
  },
  {
   "cell_type": "code",
   "execution_count": 33,
   "metadata": {},
   "outputs": [
    {
     "name": "stderr",
     "output_type": "stream",
     "text": [
      "37317it [00:04, 8617.68it/s] \n"
     ]
    }
   ],
   "source": [
    "row_list = []\n",
    "counter = 0\n",
    "# Iterate through each row in the original DataFrame\n",
    "for index, row in tqdm(tag_data.iterrows()):\n",
    "    video_id = row['video_id']\n",
    "    hashtags = row['tags'].split(\",\")\n",
    "    \n",
    "    \n",
    "    \n",
    "    for tag in hashtags:\n",
    "        if counter%2 != 0:\n",
    "            \n",
    "        \n",
    "            # Append a new row to the result DataFrame\n",
    "            new_row = {\n",
    "                'tag_occurrence_id': counter,\n",
    "                'tag': tag,\n",
    "                'video_id': video_id\n",
    "            }\n",
    "            row_list.append(new_row)\n",
    "        counter = counter + 1\n",
    "result_df = pd.DataFrame(row_list)\n"
   ]
  },
  {
   "cell_type": "code",
   "execution_count": 34,
   "metadata": {},
   "outputs": [
    {
     "data": {
      "text/html": [
       "<div>\n",
       "<style scoped>\n",
       "    .dataframe tbody tr th:only-of-type {\n",
       "        vertical-align: middle;\n",
       "    }\n",
       "\n",
       "    .dataframe tbody tr th {\n",
       "        vertical-align: top;\n",
       "    }\n",
       "\n",
       "    .dataframe thead th {\n",
       "        text-align: right;\n",
       "    }\n",
       "</style>\n",
       "<table border=\"1\" class=\"dataframe\">\n",
       "  <thead>\n",
       "    <tr style=\"text-align: right;\">\n",
       "      <th></th>\n",
       "      <th>tag_occurrence_id</th>\n",
       "      <th>tag</th>\n",
       "      <th>video_id</th>\n",
       "    </tr>\n",
       "  </thead>\n",
       "  <tbody>\n",
       "    <tr>\n",
       "      <th>0</th>\n",
       "      <td>1</td>\n",
       "      <td>curried egg</td>\n",
       "      <td>cAtazIk1IYw</td>\n",
       "    </tr>\n",
       "    <tr>\n",
       "      <th>1</th>\n",
       "      <td>3</td>\n",
       "      <td>egg recipe</td>\n",
       "      <td>cAtazIk1IYw</td>\n",
       "    </tr>\n",
       "    <tr>\n",
       "      <th>2</th>\n",
       "      <td>5</td>\n",
       "      <td>curried egg sandwich recipe</td>\n",
       "      <td>cAtazIk1IYw</td>\n",
       "    </tr>\n",
       "    <tr>\n",
       "      <th>3</th>\n",
       "      <td>7</td>\n",
       "      <td>curry recipe</td>\n",
       "      <td>cAtazIk1IYw</td>\n",
       "    </tr>\n",
       "    <tr>\n",
       "      <th>4</th>\n",
       "      <td>9</td>\n",
       "      <td>food</td>\n",
       "      <td>cAtazIk1IYw</td>\n",
       "    </tr>\n",
       "  </tbody>\n",
       "</table>\n",
       "</div>"
      ],
      "text/plain": [
       "   tag_occurrence_id                           tag     video_id\n",
       "0                  1                   curried egg  cAtazIk1IYw\n",
       "1                  3                    egg recipe  cAtazIk1IYw\n",
       "2                  5   curried egg sandwich recipe  cAtazIk1IYw\n",
       "3                  7                  curry recipe  cAtazIk1IYw\n",
       "4                  9                          food  cAtazIk1IYw"
      ]
     },
     "execution_count": 34,
     "metadata": {},
     "output_type": "execute_result"
    }
   ],
   "source": [
    "\n",
    "result_df.head()\n"
   ]
  },
  {
   "cell_type": "code",
   "execution_count": 35,
   "metadata": {},
   "outputs": [],
   "source": [
    "len(result_df)\n",
    "\n",
    "result_df[\"country\"] = \"US\""
   ]
  },
  {
   "cell_type": "code",
   "execution_count": 36,
   "metadata": {},
   "outputs": [],
   "source": [
    "result_df.to_csv(\"../../csv_files_us_new/tag_occ.csv\", index=False)"
   ]
  }
 ],
 "metadata": {
  "kernelspec": {
   "display_name": "Python 3",
   "language": "python",
   "name": "python3"
  },
  "language_info": {
   "codemirror_mode": {
    "name": "ipython",
    "version": 3
   },
   "file_extension": ".py",
   "mimetype": "text/x-python",
   "name": "python",
   "nbconvert_exporter": "python",
   "pygments_lexer": "ipython3",
   "version": "3.12.0"
  }
 },
 "nbformat": 4,
 "nbformat_minor": 2
}
